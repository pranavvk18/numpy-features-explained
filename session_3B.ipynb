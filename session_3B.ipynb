{
 "cells": [
  {
   "cell_type": "markdown",
   "metadata": {},
   "source": [
    "ses3B_dotProd"
   ]
  },
  {
   "cell_type": "code",
   "execution_count": 1,
   "metadata": {},
   "outputs": [],
   "source": [
    "import array as arr\n",
    "import numpy as np\n",
    "import time"
   ]
  },
  {
   "cell_type": "markdown",
   "metadata": {},
   "source": [
    "Arrays are more memory-efficient than lists"
   ]
  },
  {
   "cell_type": "markdown",
   "metadata": {},
   "source": [
    "Performance measurements using two methods\n",
    "\n",
    "1)`process_time_ns()`:Only measures the process excution time\n",
    "\n",
    "2)`perf_counter_ns()`: This much more granular and measure I/O wait time also which makes it perfect for overall performance measurements."
   ]
  },
  {
   "cell_type": "code",
   "execution_count": 4,
   "metadata": {},
   "outputs": [
    {
     "name": "stdout",
     "output_type": "stream",
     "text": [
      "Dot product computed without NumPy:  333328333350000.0\n",
      "Perf count in nsecs without NumPy:  23454900\n",
      "23454900\n",
      "<class 'int'>\n"
     ]
    }
   ],
   "source": [
    "# Array is created with the values from 0 to 99999\n",
    "A = arr.array('d', range(100000)) \n",
    "B = arr.array('d', range(100000))\n",
    "# classic dot product of vectors in Python\n",
    "Dot = 0.0;\n",
    "# Measure the start and end times in nano seconds.\n",
    "#startTime = time.process_time_ns() \n",
    "startTime = time.perf_counter_ns() \n",
    "for i in range(len(A)): \n",
    "      Dot += A[i] * B[i]\n",
    "      \n",
    "endTime = time.perf_counter_ns() \n",
    "\n",
    "print('Dot product computed without NumPy: ', Dot)\n",
    "print('Perf count in nsecs without NumPy: ', endTime-startTime)\n",
    "pyPerfCount = endTime-startTime\n",
    "print(pyPerfCount)\n",
    "print(type(endTime))"
   ]
  },
  {
   "cell_type": "markdown",
   "metadata": {},
   "source": [
    "Now find out the time taken to calculate the dot product in `np.arry`"
   ]
  },
  {
   "cell_type": "code",
   "execution_count": 5,
   "metadata": {},
   "outputs": [
    {
     "name": "stdout",
     "output_type": "stream",
     "text": [
      "Type of returned value from np.dot() is  <class 'numpy.float64'>\n",
      "Dot product computed with NumPy:  333328333350000.0\n",
      "Perf count in nsecs with NumPy:  5407600\n"
     ]
    }
   ],
   "source": [
    "npA = np.array(A)\n",
    "npB = np.array(B)\n",
    "startTime = time.perf_counter_ns() \n",
    "\n",
    "# Using the same Python arrays A, B perform dot product using np funtion dot()\n",
    "npDot = np.dot(npA, npB) # Here pointers to the arrays are passed\n",
    "endTime = time.perf_counter_ns()\n",
    "print('Type of returned value from np.dot() is ', type(npDot))\n",
    "print('Dot product computed with NumPy: ', npDot)\n",
    "print('Perf count in nsecs with NumPy: ', endTime-startTime)\n",
    "npPerfCount = endTime-startTime"
   ]
  },
  {
   "cell_type": "code",
   "execution_count": 6,
   "metadata": {},
   "outputs": [
    {
     "name": "stdout",
     "output_type": "stream",
     "text": [
      "Improvement in performance because of NumPy is  4\n"
     ]
    }
   ],
   "source": [
    "print(\"Improvement in performance because of NumPy is \", \n",
    "        int(pyPerfCount/npPerfCount))\n"
   ]
  },
  {
   "cell_type": "markdown",
   "metadata": {},
   "source": [
    "The reason why `np.array` calculates the dot product faster than Python's built-in `array.array` is as follows\n",
    "\n",
    "1)Vectorization in NumPy:\n",
    "\n",
    "  The operation is highly optimized and runs at the compiled C-level, not at the Python interpreter level.\n",
    "  \n",
    "  Vectorization refers to the ability to apply an operation (like addition, multiplication) to entire arrays without using explicit loops in Python. In contrast, in a Python loop (like the for loop in your array.array implementation), the interpreter executes each iteration, which involves overhead for managing the loop\n",
    "\n",
    "2)Low-Level Optimizations in NumPy:\n",
    "\n",
    "  NumPy uses SIMD (Single Instruction, Multiple Data) and other low-level optimizations to process large chunks of data at once.\n",
    "\n",
    "3)Memory Contiguity\n"
   ]
  },
  {
   "cell_type": "markdown",
   "metadata": {},
   "source": [
    "`out` parameter:"
   ]
  },
  {
   "cell_type": "code",
   "execution_count": 7,
   "metadata": {},
   "outputs": [
    {
     "name": "stdout",
     "output_type": "stream",
     "text": [
      "type of npVal is  <class 'numpy.ndarray'>  and npVal =  333328333350000.0\n",
      "Typeof chkVal is  <class 'numpy.float64'>  and chkVal is  333328333350000.0\n"
     ]
    }
   ],
   "source": [
    "npVal = np.array(0.0)\n",
    "chkVal = np.dot(A, B, out=npVal)\n",
    "print('type of npVal is ', type(npVal), ' and npVal = ', npVal)\n",
    "print('Typeof chkVal is ', type(chkVal), ' and chkVal is ', chkVal)"
   ]
  },
  {
   "cell_type": "code",
   "execution_count": 8,
   "metadata": {},
   "outputs": [
    {
     "name": "stdout",
     "output_type": "stream",
     "text": [
      "eleMult is:  [2 4 6]\n"
     ]
    }
   ],
   "source": [
    "npA = np.array([1, 2, 3])\n",
    "npB = np.array([2, 2, 2])\n",
    "eleMult = npA * npB\n",
    "print('eleMult is: ', eleMult)"
   ]
  },
  {
   "cell_type": "markdown",
   "metadata": {},
   "source": [
    "using @ operator to do dot product"
   ]
  },
  {
   "cell_type": "code",
   "execution_count": 9,
   "metadata": {},
   "outputs": [
    {
     "name": "stdout",
     "output_type": "stream",
     "text": [
      "dotProduct is:  12\n",
      "[[ 7 11]\n",
      " [14 22]]\n"
     ]
    }
   ],
   "source": [
    "dotProduct = npA @ npB\n",
    "print('dotProduct is: ', dotProduct)\n",
    "A = np.array([[1, 1], \n",
    "              [2, 2]])\n",
    "B = np.array([[3, 5], \n",
    "              [4, 6]])\n",
    "npDot = np.dot(A, B)\n",
    "print(npDot)"
   ]
  },
  {
   "cell_type": "markdown",
   "metadata": {},
   "source": [
    "Ses3B_endianess"
   ]
  },
  {
   "cell_type": "code",
   "execution_count": null,
   "metadata": {},
   "outputs": [],
   "source": []
  }
 ],
 "metadata": {
  "kernelspec": {
   "display_name": "Python 3",
   "language": "python",
   "name": "python3"
  },
  "language_info": {
   "codemirror_mode": {
    "name": "ipython",
    "version": 3
   },
   "file_extension": ".py",
   "mimetype": "text/x-python",
   "name": "python",
   "nbconvert_exporter": "python",
   "pygments_lexer": "ipython3",
   "version": "3.11.0"
  }
 },
 "nbformat": 4,
 "nbformat_minor": 2
}
