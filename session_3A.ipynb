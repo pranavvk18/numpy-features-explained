{
 "cells": [
  {
   "cell_type": "markdown",
   "metadata": {},
   "source": [
    "Session 3A1"
   ]
  },
  {
   "cell_type": "code",
   "execution_count": 2,
   "metadata": {},
   "outputs": [],
   "source": [
    "import numpy as np"
   ]
  },
  {
   "cell_type": "markdown",
   "metadata": {},
   "source": [
    "a)The List A conist of int and float type values,since the numpy array can only hold the homonegeous values so the values are converted into float and stored in numpy array"
   ]
  },
  {
   "cell_type": "code",
   "execution_count": 3,
   "metadata": {},
   "outputs": [
    {
     "name": "stdout",
     "output_type": "stream",
     "text": [
      "[1, 2, 3, 4.0]\n"
     ]
    }
   ],
   "source": [
    "A = [1, 2, 3, 4.0]\n",
    "print(A)"
   ]
  },
  {
   "cell_type": "code",
   "execution_count": 4,
   "metadata": {},
   "outputs": [
    {
     "name": "stdout",
     "output_type": "stream",
     "text": [
      "[1. 2. 3. 4.]\n"
     ]
    }
   ],
   "source": [
    "npA = np.array(A)\n",
    "print(npA)"
   ]
  },
  {
   "cell_type": "markdown",
   "metadata": {},
   "source": [
    "### `type()` function in Python\n",
    "\n",
    "b)The `type()` function in Python is used to determine the type of an object. It returns the class type of the object passed to it. You can use `type()` to check whether a variable is a list, integer, string, float, NumPy array, or any other data type."
   ]
  },
  {
   "cell_type": "code",
   "execution_count": 5,
   "metadata": {},
   "outputs": [
    {
     "name": "stdout",
     "output_type": "stream",
     "text": [
      "Type of npA is  <class 'numpy.ndarray'>\n"
     ]
    }
   ],
   "source": [
    "print('Type of npA is ', type(npA))"
   ]
  },
  {
   "cell_type": "markdown",
   "metadata": {},
   "source": [
    "c)`ndim` gives you the number of dimensions in a NumPy array"
   ]
  },
  {
   "cell_type": "code",
   "execution_count": 6,
   "metadata": {},
   "outputs": [
    {
     "name": "stdout",
     "output_type": "stream",
     "text": [
      "Dimension of npA is  1\n"
     ]
    }
   ],
   "source": [
    "print(\"Dimension of npA is \", npA.ndim)"
   ]
  },
  {
   "cell_type": "code",
   "execution_count": 7,
   "metadata": {},
   "outputs": [
    {
     "name": "stdout",
     "output_type": "stream",
     "text": [
      "Dimension of arr3 is  3\n"
     ]
    }
   ],
   "source": [
    "arr3 = np.array([[[1, 2], [3, 4]], [[5, 6], [7, 8]]])\n",
    "print(\"Dimension of arr3 is \", arr3.ndim)"
   ]
  },
  {
   "cell_type": "markdown",
   "metadata": {},
   "source": [
    "d)`shape` It returns a tuple with ints giving the no. of element in each dimension"
   ]
  },
  {
   "cell_type": "code",
   "execution_count": 8,
   "metadata": {},
   "outputs": [
    {
     "name": "stdout",
     "output_type": "stream",
     "text": [
      "Shape of nPA is  (4,)\n"
     ]
    }
   ],
   "source": [
    "print(\"Shape of nPA is \", npA.shape)"
   ]
  },
  {
   "cell_type": "code",
   "execution_count": 9,
   "metadata": {},
   "outputs": [],
   "source": [
    "arr3 = np.array([[[1, 2], [3, 4]], [[5, 6], [7, 8]]])"
   ]
  },
  {
   "cell_type": "markdown",
   "metadata": {},
   "source": [
    "The shape of `arr3` is `(2, 2, 2)`, which means:\n",
    "\n",
    "1. There are **2 blocks** (outermost level).\n",
    "\n",
    "   - The two blocks are:\n",
    "     ```\n",
    "     Block 1: [[1, 2], [3, 4]]\n",
    "     Block 2: [[5, 6], [7, 8]]\n",
    "     ```\n",
    "\n",
    "2. Each block contains **2 rows** (second level).\n",
    "\n",
    "   - For **Block 1**, the rows are:\n",
    "     ```\n",
    "     [1, 2]\n",
    "     [3, 4]\n",
    "     ```\n",
    "   \n",
    "   - For **Block 2**, the rows are:\n",
    "     ```\n",
    "     [5, 6]\n",
    "     [7, 8]\n",
    "     ```\n",
    "\n",
    "3. Each row has **2 elements** (innermost level).\n",
    "\n",
    "   - For **Block 1**, the elements in each row are:\n",
    "     ```\n",
    "     Row 1: [1, 2]\n",
    "     Row 2: [3, 4]\n",
    "     ```\n",
    "\n",
    "   - For **Block 2**, the elements in each row are:\n",
    "     ```\n",
    "     Row 1: [5, 6]\n",
    "     Row 2: [7, 8]\n",
    "     ```\n"
   ]
  },
  {
   "cell_type": "code",
   "execution_count": 10,
   "metadata": {},
   "outputs": [
    {
     "name": "stdout",
     "output_type": "stream",
     "text": [
      "Shape of arr3 is  (2, 2, 2)\n"
     ]
    }
   ],
   "source": [
    "print(\"Shape of arr3 is \", arr3.shape)"
   ]
  },
  {
   "cell_type": "markdown",
   "metadata": {},
   "source": [
    "e)The `size` attribute is used to return the total number of elements in a NumPy array. It calculates the product of all the dimensions of the array, regardless of the shape"
   ]
  },
  {
   "cell_type": "code",
   "execution_count": 11,
   "metadata": {},
   "outputs": [
    {
     "name": "stdout",
     "output_type": "stream",
     "text": [
      "Size of npA  4\n"
     ]
    }
   ],
   "source": [
    "print(\"Size of npA \", npA.size)"
   ]
  },
  {
   "cell_type": "code",
   "execution_count": 12,
   "metadata": {},
   "outputs": [
    {
     "name": "stdout",
     "output_type": "stream",
     "text": [
      "Size of arr3 8\n"
     ]
    }
   ],
   "source": [
    "print(\"Size of arr3\",arr3.size)"
   ]
  },
  {
   "cell_type": "markdown",
   "metadata": {},
   "source": [
    "f)`dtype`"
   ]
  },
  {
   "cell_type": "code",
   "execution_count": 13,
   "metadata": {},
   "outputs": [
    {
     "name": "stdout",
     "output_type": "stream",
     "text": [
      "Data type of elements in npA  float64\n"
     ]
    }
   ],
   "source": [
    "print(\"Data type of elements in npA \", npA.dtype)"
   ]
  },
  {
   "cell_type": "markdown",
   "metadata": {},
   "source": [
    "g)`itemsize`"
   ]
  },
  {
   "cell_type": "markdown",
   "metadata": {},
   "source": [
    "Note: In Python float is 8bytes\n",
    "\n",
    "Python uses double-precision floating-point format (also known as float64), which allocates 64 bits to store a float"
   ]
  },
  {
   "cell_type": "code",
   "execution_count": 14,
   "metadata": {},
   "outputs": [
    {
     "name": "stdout",
     "output_type": "stream",
     "text": [
      "Memory size of each element in npA  8\n"
     ]
    }
   ],
   "source": [
    "print(\"Memory size of each element in npA \", npA.itemsize)"
   ]
  },
  {
   "cell_type": "markdown",
   "metadata": {},
   "source": [
    "h)Total size of npA =npA.size * npA.itemsize"
   ]
  },
  {
   "cell_type": "code",
   "execution_count": 15,
   "metadata": {},
   "outputs": [
    {
     "name": "stdout",
     "output_type": "stream",
     "text": [
      "Total size of npA in bytes is  32\n"
     ]
    }
   ],
   "source": [
    "print(\"Total size of npA in bytes is \", npA.size * npA.itemsize)"
   ]
  },
  {
   "cell_type": "code",
   "execution_count": 16,
   "metadata": {},
   "outputs": [
    {
     "name": "stdout",
     "output_type": "stream",
     "text": [
      "[[1, 2, 3], [4, 5, 6]]\n"
     ]
    }
   ],
   "source": [
    "A2_3 = [[1, 2, 3], [4, 5, 6]]\n",
    "print(A2_3)"
   ]
  },
  {
   "cell_type": "code",
   "execution_count": 17,
   "metadata": {},
   "outputs": [
    {
     "name": "stdout",
     "output_type": "stream",
     "text": [
      "[[1 2 3]\n",
      " [4 5 6]]\n"
     ]
    }
   ],
   "source": [
    "npA2_3 = np.array(A2_3)\n",
    "print(npA2_3)"
   ]
  },
  {
   "cell_type": "markdown",
   "metadata": {},
   "source": [
    "i)`np.append()`"
   ]
  },
  {
   "cell_type": "markdown",
   "metadata": {},
   "source": [
    "This line attempts to append the list [7, 8, 9] to the array npA2_3. However, since npA2_3 is a 2D array and [7, 8, 9] is a 1D array, NumPy will flatten npA2_3 before the append operation, resulting in a new 1D array"
   ]
  },
  {
   "cell_type": "markdown",
   "metadata": {},
   "source": [
    "NumPy provides several methods to flatten an array:\n",
    "1) flatten(): This method returns a copy of the array collapsed into one dimension.\n",
    "2) ravel(): This method also returns a flattened array, but it returns a view whenever possible, which is more memory efficient.\n",
    "3) np.append(): When using this function on a multi-dimensional array with a 1D array, NumPy flattens the original array before appending."
   ]
  },
  {
   "cell_type": "code",
   "execution_count": 18,
   "metadata": {},
   "outputs": [
    {
     "name": "stdout",
     "output_type": "stream",
     "text": [
      "[1 2 3 4 5 6 7 8 9]\n"
     ]
    }
   ],
   "source": [
    "npA = np.append(npA2_3, [7, 8, 9])\n",
    "print(npA)"
   ]
  },
  {
   "cell_type": "markdown",
   "metadata": {},
   "source": [
    "Note: The axis=0 parameter specifies that the append operation should be performed along the rows (the vertical axis). In other words, you are adding the new row to the bottom of the existing array."
   ]
  },
  {
   "cell_type": "code",
   "execution_count": 19,
   "metadata": {},
   "outputs": [
    {
     "name": "stdout",
     "output_type": "stream",
     "text": [
      "[[1 2 3]\n",
      " [4 5 6]\n",
      " [7 8 9]]\n"
     ]
    }
   ],
   "source": [
    "npA3_3 = np.append(npA2_3, [[7, 8, 9]], axis=0)\n",
    "print(npA3_3)"
   ]
  },
  {
   "cell_type": "code",
   "execution_count": 20,
   "metadata": {},
   "outputs": [
    {
     "name": "stdout",
     "output_type": "stream",
     "text": [
      "[[1, 2, 3], [4, 5]]\n"
     ]
    }
   ],
   "source": [
    "A2_x = [[1, 2, 3], [4, 5]]\n",
    "print(A2_x)"
   ]
  },
  {
   "cell_type": "code",
   "execution_count": 21,
   "metadata": {},
   "outputs": [
    {
     "name": "stdout",
     "output_type": "stream",
     "text": [
      "[[1, 2, 3], [4, 5]]\n"
     ]
    }
   ],
   "source": [
    "npA2_x = np.array(A2_x, dtype=object)\n",
    "print(A2_x)\n"
   ]
  },
  {
   "cell_type": "markdown",
   "metadata": {},
   "source": [
    "Session 3A2"
   ]
  },
  {
   "cell_type": "markdown",
   "metadata": {},
   "source": [
    "Understand different  dtypes supported by NumPy"
   ]
  },
  {
   "cell_type": "markdown",
   "metadata": {},
   "source": [
    "The underscore in `np.bool`_ is a convention used in NumPy to avoid name clashes with Python’s built-in types. In Python, bool is the built-in type, so NumPy uses bool_ to denote its own array-compatible Boolean type."
   ]
  },
  {
   "cell_type": "code",
   "execution_count": 22,
   "metadata": {},
   "outputs": [
    {
     "name": "stdout",
     "output_type": "stream",
     "text": [
      "About dtype bool_\n",
      "Type:  <class 'numpy.bool_'>\n",
      "Size:  1\n",
      "Value:  True\n"
     ]
    }
   ],
   "source": [
    "npBool = np.bool_(True)\n",
    "print('About dtype bool_')\n",
    "print('Type: ', type(npBool))\n",
    "print('Size: ', npBool.itemsize)\n",
    "print('Value: ', npBool)"
   ]
  },
  {
   "cell_type": "markdown",
   "metadata": {},
   "source": [
    "`np.byte` is a NumPy data type that represents an 8-bit signed integer. It can store values between -128 and 127"
   ]
  },
  {
   "cell_type": "markdown",
   "metadata": {},
   "source": [
    "When you try to store 300 in an 8-bit signed integer, NumPy attempts to fit this value within the allowed range. Since 300 exceeds the maximum allowable value (127), integer overflow occurs, and the result is wrapped around using modulo arithmetic.\n",
    "\n",
    "After wrapping around, 300 is stored as 44, because 300 - 256 = 44."
   ]
  },
  {
   "cell_type": "markdown",
   "metadata": {},
   "source": [
    "Since np.byte is a subclass of NumPy's np.int8 (a signed 8-bit integer), the type will be <class 'numpy.int8'>."
   ]
  },
  {
   "cell_type": "markdown",
   "metadata": {},
   "source": [
    "`np.iinfo` is a function that provides information about the limits of integer types"
   ]
  },
  {
   "cell_type": "code",
   "execution_count": 23,
   "metadata": {},
   "outputs": [
    {
     "name": "stdout",
     "output_type": "stream",
     "text": [
      "\n",
      "About dtype byte\n",
      "Type:  <class 'numpy.int8'>\n",
      "Size:  1\n",
      "Value:  44\n",
      "min and max:  -128 127\n"
     ]
    },
    {
     "name": "stderr",
     "output_type": "stream",
     "text": [
      "C:\\Users\\pranav\\AppData\\Local\\Temp\\ipykernel_22488\\1233506481.py:1: DeprecationWarning: NumPy will stop allowing conversion of out-of-bound Python integers to integer arrays.  The conversion of 300 to int8 will fail in the future.\n",
      "For the old behavior, usually:\n",
      "    np.array(value).astype(dtype)\n",
      "will give the desired result (the cast overflows).\n",
      "  npByte = np.byte(300) # It can only store an 8-bit value\n"
     ]
    }
   ],
   "source": [
    "npByte = np.byte(300) # It can only store an 8-bit value\n",
    "print('\\nAbout dtype byte')\n",
    "print('Type: ', type(npByte))\n",
    "print('Size: ', npByte.itemsize)\n",
    "print('Value: ', npByte) \n",
    "print('min and max: ', np.iinfo(np.byte).min, np.iinfo(np.byte).max)"
   ]
  },
  {
   "cell_type": "markdown",
   "metadata": {},
   "source": [
    "### Unsigned Integer (`np.ubyte`)\n",
    "- Unlike signed integers (like `np.byte`), `np.ubyte` can only store non-negative numbers (from **0** to **255**). It uses **8 bits** (1 byte) to represent these values.\n",
    "\n",
    "### Hexadecimal Input\n",
    "- `0xFF` in hexadecimal is equivalent to **255** in decimal, which is the maximum value that can be stored in an unsigned 8-bit integer.\n",
    "\n",
    "### `itemsize`\n",
    "- Shows that `np.ubyte` takes **1 byte** (8 bits) of memory.\n",
    "\n",
    "### `np.iinfo()`\n",
    "- Provides information about the min and max allowable values for NumPy unsigned integer types like `np.ubyte`, with a minimum of **0** and a maximum of **255**.\n"
   ]
  },
  {
   "cell_type": "code",
   "execution_count": 24,
   "metadata": {},
   "outputs": [
    {
     "name": "stdout",
     "output_type": "stream",
     "text": [
      "\n",
      "About dtype ubyte\n",
      "Type:  <class 'numpy.uint8'>\n",
      "Size:  1\n",
      "Value:  255\n",
      "min and max:  0 255\n"
     ]
    }
   ],
   "source": [
    "npUbyte = np.ubyte(0xFF) \n",
    "print('\\nAbout dtype ubyte')\n",
    "print('Type: ', type(npUbyte))\n",
    "print('Size: ', npUbyte.itemsize)\n",
    "print('Value: ', npUbyte) \n",
    "print('min and max: ', np.iinfo(np.ubyte).min, np.iinfo(np.ubyte).max)"
   ]
  },
  {
   "cell_type": "markdown",
   "metadata": {},
   "source": [
    "`np.short`: Represents a signed 16-bit integer with a range of -32768 to 32767.\n",
    "\n",
    "`np.iinfo()`: Provides the minimum and maximum values for signed 16-bit integers: -32768 and 32767, respectively"
   ]
  },
  {
   "cell_type": "code",
   "execution_count": 25,
   "metadata": {},
   "outputs": [
    {
     "name": "stdout",
     "output_type": "stream",
     "text": [
      "\n",
      "About dtype short\n",
      "Type:  <class 'numpy.int16'>\n",
      "Size:  2\n",
      "Value:  -1\n",
      "min and max:  -32768 32767\n"
     ]
    },
    {
     "name": "stderr",
     "output_type": "stream",
     "text": [
      "C:\\Users\\pranav\\AppData\\Local\\Temp\\ipykernel_22488\\2914512378.py:1: DeprecationWarning: NumPy will stop allowing conversion of out-of-bound Python integers to integer arrays.  The conversion of 65535 to int16 will fail in the future.\n",
      "For the old behavior, usually:\n",
      "    np.array(value).astype(dtype)\n",
      "will give the desired result (the cast overflows).\n",
      "  npShort = np.short(0xFFFF)\n"
     ]
    }
   ],
   "source": [
    "\n",
    "npShort = np.short(0xFFFF)\n",
    "print('\\nAbout dtype short')\n",
    "print('Type: ', type(npShort))\n",
    "print('Size: ', npShort.itemsize)\n",
    "print('Value: ', npShort)\n",
    "print('min and max: ', np.iinfo(np.short).min, np.iinfo(np.short).max)\n"
   ]
  },
  {
   "cell_type": "code",
   "execution_count": null,
   "metadata": {},
   "outputs": [],
   "source": []
  }
 ],
 "metadata": {
  "kernelspec": {
   "display_name": "Python 3",
   "language": "python",
   "name": "python3"
  },
  "language_info": {
   "codemirror_mode": {
    "name": "ipython",
    "version": 3
   },
   "file_extension": ".py",
   "mimetype": "text/x-python",
   "name": "python",
   "nbconvert_exporter": "python",
   "pygments_lexer": "ipython3",
   "version": "3.11.0"
  }
 },
 "nbformat": 4,
 "nbformat_minor": 2
}
